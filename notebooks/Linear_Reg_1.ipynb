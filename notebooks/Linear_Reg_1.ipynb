{
  "cells": [
    {
      "cell_type": "markdown",
      "metadata": {
        "id": "DDaRp5mLJDir"
      },
      "source": [
        "# Week-1\n",
        "\n",
        "Hands-on (basic) Linear Regression with Python.\n",
        "\n",
        "\n",
        "Author: [Deeptendu Santra)](https://github.com/Dsantra92)\n",
        "Licence: This notebook is issued under [restrictive MIT license](https://github.com/IEDC-IEM/Reverse-Classroom-ML/blob/main/LICENSE).\n",
        "\n",
        "**Create your own copy for persistent changes.**"
      ]
    },
    {
      "cell_type": "markdown",
      "metadata": {
        "id": "RnNHtIMwJYrl"
      },
      "source": [
        "## Convert math equations into [fast] python code"
      ]
    },
    {
      "cell_type": "markdown",
      "metadata": {
        "id": "Jz2cvMDIJM7b"
      },
      "source": [
        "1. Find the summation of all natural numbers less than 1000.\n",
        "\n",
        "$$S = \\sum\\limits_{i=1}^{1000} i$$\n"
      ]
    },
    {
      "cell_type": "code",
      "execution_count": null,
      "metadata": {
        "id": "qg6BVzpRHHw_"
      },
      "outputs": [],
      "source": []
    },
    {
      "cell_type": "markdown",
      "metadata": {
        "id": "hMp8BXo9J3Tv"
      },
      "source": [
        "2. Find the difference between sum of square of natural numbers between 1 and 1,000 and sum of natural numbers between 1 and 10,000.\n",
        "\n",
        "$$D = \\sum\\limits_{i=1}^{10000} - \\sum\\limits_{i=1}^{1000} i^2$$"
      ]
    },
    {
      "cell_type": "code",
      "execution_count": null,
      "metadata": {
        "id": "zJnr3Me-I-p3"
      },
      "outputs": [],
      "source": []
    },
    {
      "cell_type": "markdown",
      "metadata": {
        "id": "o3TelfxjKYGE"
      },
      "source": [
        "3. Find the product of all even natural numbers less than 25.\n",
        "\n",
        ">*Note: Extra points for writing latex equation for the same.*"
      ]
    },
    {
      "cell_type": "code",
      "execution_count": null,
      "metadata": {
        "id": "gVsHoWl8K2nz"
      },
      "outputs": [],
      "source": []
    },
    {
      "cell_type": "markdown",
      "metadata": {
        "id": "VnclSa9JLNaO"
      },
      "source": [
        "## Basic Linear-Algebra in Python"
      ]
    },
    {
      "cell_type": "markdown",
      "metadata": {
        "id": "x4zNBYMxLY0_"
      },
      "source": [
        "1. A dot product between two vectors $\\mathbf{a}$ and $\\mathbf{b}$ is defined as:\n",
        "$$s = \\mathbf{a} \\bullet \\mathbf{b} := \\mathbf{a}^\\top\\mathbf{b} = \\mathbf{b}^\\top\\mathbf{a} = \\sum\\limits_{i=1}^{n}a_ib_i$$\n",
        "\n",
        "where $\\mathbf{a}, \\mathbf{b} \\in \\mathbb{R}^{n\\times 1}$\n",
        "\n",
        "You are required to load $\\mathbf{a}$ and $\\mathbf{b}$ from [here](https://iemcollege-my.sharepoint.com/:f:/g/personal/deeptendu_santra2019_iem_edu_in/EoVCGqokoaNKmlatjd44GKoBsSKOemLOwkK0vepwTAK5fg?e=Q21APe)."
      ]
    },
    {
      "cell_type": "code",
      "execution_count": null,
      "metadata": {
        "id": "GfITPYNVNl2B"
      },
      "outputs": [],
      "source": [
        "# load a and b use np.load(). Top secret hint: google it"
      ]
    },
    {
      "cell_type": "code",
      "execution_count": null,
      "metadata": {
        "id": "cSUG1OfBLYVx"
      },
      "outputs": [],
      "source": [
        "# Try wihtout using np.dot first, use loops and explain it."
      ]
    },
    {
      "cell_type": "markdown",
      "metadata": {
        "id": "Co3SaO2INN5K"
      },
      "source": [
        "2. A cross product between two vectors $\\mathbf{a}$ and $\\mathbf{b}$ is defined as:\n",
        "$$\\mathbf{C} = \\mathbf{a} \\times \\mathbf{b} = ??$$\n",
        "\n",
        "where $\\mathbf{a}, \\mathbf{b} \\in \\mathbb{R}^n$"
      ]
    },
    {
      "cell_type": "code",
      "execution_count": null,
      "metadata": {
        "id": "y3H6-dMjOhrf"
      },
      "outputs": [],
      "source": [
        "# Try wihtout using np.multiply first, use loops and explain it."
      ]
    },
    {
      "cell_type": "markdown",
      "metadata": {
        "id": "2_ceWLcmOsMz"
      },
      "source": [
        "3. Norm of a vector $\\mathbf{x}$\n",
        "$$n = ||\\mathbf{x}||_{p} := \\left(\\sum\\limits_{i=1}^n|x_i|^p\\right)^{(\\frac{1}{p})}$$\n",
        "\n",
        "where $p$ denotes the order of norm. Change value of $p$ for different known distances.\n",
        "\n",
        "1. What value of $p$ gives the euclidian distance of $\\mathbf{x}$ from origin?\n",
        "2. What value of $p$ gives the Manhattan distance of $\\mathbf{x}$ from origin?\n",
        "3. What values of $p$ gives max value in $\\mathbf{x}$?"
      ]
    },
    {
      "cell_type": "code",
      "execution_count": 1,
      "metadata": {
        "id": "9HUHo5TvOwrD"
      },
      "outputs": [],
      "source": []
    },
    {
      "cell_type": "markdown",
      "metadata": {
        "id": "xvEg098DP7nw"
      },
      "source": [
        "## Linear Regression\n",
        "\n",
        "Load the data $\\mathbf{x}$ and $\\mathbf{t}$ from the [here](https://iemcollege-my.sharepoint.com/:f:/g/personal/deeptendu_santra2019_iem_edu_in/EoVCGqokoaNKmlatjd44GKoBsSKOemLOwkK0vepwTAK5fg?e=Q21APe).\n",
        "\n",
        "*Note: Plot $\\mathbf{x}$ to $\\mathbf{t}$ if possible.*"
      ]
    },
    {
      "cell_type": "code",
      "execution_count": null,
      "metadata": {
        "id": "FzrGnbTHR_IJ"
      },
      "outputs": [],
      "source": []
    },
    {
      "cell_type": "markdown",
      "metadata": {
        "id": "5QZpxIKnQibO"
      },
      "source": [
        "Given weight $w$ and $w_0$, the simple regression model is given by,\n",
        "\n",
        "$$y_i = f_{ML}(x_i;w, w_0) = w * x_i + w_0$$\n",
        "\n",
        "where $y_i$ is the predicted value for $x_i$."
      ]
    },
    {
      "cell_type": "markdown",
      "metadata": {
        "id": "nCNvFkKlRZh0"
      },
      "source": [
        "Consider random values of the $w$ and $w_0$ and find the prediction for one $x_i$. "
      ]
    },
    {
      "cell_type": "code",
      "execution_count": null,
      "metadata": {
        "id": "jxFjEOB_QbYg"
      },
      "outputs": [],
      "source": []
    },
    {
      "cell_type": "markdown",
      "metadata": {
        "id": "T9E-JdXdRxr7"
      },
      "source": [
        "Write the loss function for finding the loss for the entire dataset, first the maths and then the code.\n",
        "\n"
      ]
    },
    {
      "cell_type": "code",
      "execution_count": null,
      "metadata": {
        "id": "cn5jANhqTPD7"
      },
      "outputs": [],
      "source": []
    },
    {
      "cell_type": "markdown",
      "metadata": {
        "id": "rW5jbnZITP78"
      },
      "source": [
        "Write closed form equation for the model to find the optmial $w^*$ for our problem.\n",
        "1. Derive the equation in your copy.\n",
        "2. Write the code for doing the same.\n",
        "\n",
        "*Hint: Write the equation for $y_i$ in matrix form.*"
      ]
    },
    {
      "cell_type": "code",
      "execution_count": null,
      "metadata": {
        "id": "t7C3ovqRT5iP"
      },
      "outputs": [],
      "source": []
    },
    {
      "cell_type": "markdown",
      "metadata": {
        "id": "PrDfRRoyUegc"
      },
      "source": [
        "Find the final loss. What loss do you prefer? L1 or L2? Why?"
      ]
    },
    {
      "cell_type": "code",
      "execution_count": null,
      "metadata": {
        "id": "zpdyp_KkUgA2"
      },
      "outputs": [],
      "source": []
    },
    {
      "cell_type": "markdown",
      "metadata": {
        "id": "vVTOR7mGUgmf"
      },
      "source": [
        "Plot your results."
      ]
    },
    {
      "cell_type": "code",
      "execution_count": null,
      "metadata": {
        "id": "m4u9brCAUh8J"
      },
      "outputs": [],
      "source": []
    },
    {
      "cell_type": "markdown",
      "metadata": {
        "id": "hLQvPLGXUiyk"
      },
      "source": [
        "## Final Remarks\n",
        "\n",
        "Can you make this model even better? Think about outliers."
      ]
    },
    {
      "cell_type": "code",
      "execution_count": null,
      "metadata": {
        "id": "Ou7VHud3Uk4o"
      },
      "outputs": [],
      "source": []
    }
  ],
  "metadata": {
    "colab": {
      "collapsed_sections": [],
      "name": "MLRC-week-1.ipynb",
      "provenance": []
    },
    "kernelspec": {
      "display_name": "Python 3",
      "name": "python3"
    },
    "language_info": {
      "name": "python"
    }
  },
  "nbformat": 4,
  "nbformat_minor": 0
}
